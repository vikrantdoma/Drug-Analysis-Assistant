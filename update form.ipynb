{
 "cells": [
  {
   "cell_type": "code",
   "execution_count": 1,
   "metadata": {},
   "outputs": [
    {
     "name": "stdout",
     "output_type": "stream",
     "text": [
      "<class 'pandas.core.frame.DataFrame'>\n",
      "RangeIndex: 53766 entries, 0 to 53765\n",
      "Data columns (total 7 columns):\n",
      "uniqueID       53766 non-null int64\n",
      "drugName       53766 non-null object\n",
      "condition      53471 non-null object\n",
      "review         53766 non-null object\n",
      "rating         53766 non-null int64\n",
      "date           53766 non-null object\n",
      "usefulCount    53766 non-null int64\n",
      "dtypes: int64(3), object(4)\n",
      "memory usage: 2.9+ MB\n"
     ]
    }
   ],
   "source": [
    "import pandas as pd\n",
    "import numpy as np\n",
    "import collections\n",
    "import requests\n",
    "from nltk import bigrams\n",
    "from sklearn.model_selection import train_test_split\n",
    "from sklearn.linear_model import LinearRegression\n",
    "from sklearn.metrics import mean_squared_error, r2_score\n",
    "import matplotlib.pyplot as plt\n",
    "import dateutil.parser as parser\n",
    "# including pandas for opening and creating dataframes from csv files\n",
    "# numpy is used for type casting to int64 from float64 in this program\n",
    "#matplot lib for plotting graphs \n",
    "f1 = pd.read_csv(\"/home/vikmachine/BD_final/drugsComTrain_raw.csv\", error_bad_lines=False)\n",
    "f2 = pd.read_csv(\"/home/vikmachine/BD_final/drugsComTest_raw.csv\", error_bad_lines=False)\n",
    "f2.info()"
   ]
  },
  {
   "cell_type": "code",
   "execution_count": 2,
   "metadata": {},
   "outputs": [
    {
     "data": {
      "text/html": [
       "<div>\n",
       "<style scoped>\n",
       "    .dataframe tbody tr th:only-of-type {\n",
       "        vertical-align: middle;\n",
       "    }\n",
       "\n",
       "    .dataframe tbody tr th {\n",
       "        vertical-align: top;\n",
       "    }\n",
       "\n",
       "    .dataframe thead th {\n",
       "        text-align: right;\n",
       "    }\n",
       "</style>\n",
       "<table border=\"1\" class=\"dataframe\">\n",
       "  <thead>\n",
       "    <tr style=\"text-align: right;\">\n",
       "      <th></th>\n",
       "      <th>uniqueID</th>\n",
       "      <th>drugName</th>\n",
       "      <th>condition</th>\n",
       "      <th>review</th>\n",
       "      <th>date</th>\n",
       "      <th>usefulCount</th>\n",
       "      <th>rating</th>\n",
       "    </tr>\n",
       "  </thead>\n",
       "  <tbody>\n",
       "    <tr>\n",
       "      <th>161292</th>\n",
       "      <td>191035</td>\n",
       "      <td>Campral</td>\n",
       "      <td>Alcohol Dependence</td>\n",
       "      <td>\"I wrote my first report in Mid-October of 201...</td>\n",
       "      <td>31-May-15</td>\n",
       "      <td>125</td>\n",
       "      <td>10</td>\n",
       "    </tr>\n",
       "    <tr>\n",
       "      <th>161293</th>\n",
       "      <td>127085</td>\n",
       "      <td>Metoclopramide</td>\n",
       "      <td>Nausea/Vomiting</td>\n",
       "      <td>\"I was given this in IV before surgey. I immed...</td>\n",
       "      <td>1-Nov-11</td>\n",
       "      <td>34</td>\n",
       "      <td>1</td>\n",
       "    </tr>\n",
       "    <tr>\n",
       "      <th>161294</th>\n",
       "      <td>187382</td>\n",
       "      <td>Orencia</td>\n",
       "      <td>Rheumatoid Arthritis</td>\n",
       "      <td>\"Limited improvement after 4 months, developed...</td>\n",
       "      <td>15-Mar-14</td>\n",
       "      <td>35</td>\n",
       "      <td>2</td>\n",
       "    </tr>\n",
       "    <tr>\n",
       "      <th>161295</th>\n",
       "      <td>47128</td>\n",
       "      <td>Thyroid desiccated</td>\n",
       "      <td>Underactive Thyroid</td>\n",
       "      <td>\"I&amp;#039;ve been on thyroid medication 49 years...</td>\n",
       "      <td>19-Sep-15</td>\n",
       "      <td>79</td>\n",
       "      <td>10</td>\n",
       "    </tr>\n",
       "    <tr>\n",
       "      <th>161296</th>\n",
       "      <td>215220</td>\n",
       "      <td>Lubiprostone</td>\n",
       "      <td>Constipation, Chronic</td>\n",
       "      <td>\"I&amp;#039;ve had chronic constipation all my adu...</td>\n",
       "      <td>13-Dec-14</td>\n",
       "      <td>116</td>\n",
       "      <td>9</td>\n",
       "    </tr>\n",
       "  </tbody>\n",
       "</table>\n",
       "</div>"
      ],
      "text/plain": [
       "        uniqueID            drugName              condition  \\\n",
       "161292    191035             Campral     Alcohol Dependence   \n",
       "161293    127085      Metoclopramide        Nausea/Vomiting   \n",
       "161294    187382             Orencia   Rheumatoid Arthritis   \n",
       "161295     47128  Thyroid desiccated    Underactive Thyroid   \n",
       "161296    215220        Lubiprostone  Constipation, Chronic   \n",
       "\n",
       "                                                   review       date  \\\n",
       "161292  \"I wrote my first report in Mid-October of 201...  31-May-15   \n",
       "161293  \"I was given this in IV before surgey. I immed...   1-Nov-11   \n",
       "161294  \"Limited improvement after 4 months, developed...  15-Mar-14   \n",
       "161295  \"I&#039;ve been on thyroid medication 49 years...  19-Sep-15   \n",
       "161296  \"I&#039;ve had chronic constipation all my adu...  13-Dec-14   \n",
       "\n",
       "        usefulCount  rating  \n",
       "161292          125      10  \n",
       "161293           34       1  \n",
       "161294           35       2  \n",
       "161295           79      10  \n",
       "161296          116       9  "
      ]
     },
     "execution_count": 2,
     "metadata": {},
     "output_type": "execute_result"
    }
   ],
   "source": [
    "dframe1 = pd.DataFrame(f1,columns=['uniqueID','drugName', 'condition', 'review', 'date', 'usefulCount', 'rating'])\n",
    "dframe1.tail()"
   ]
  },
  {
   "cell_type": "code",
   "execution_count": 4,
   "metadata": {},
   "outputs": [],
   "source": [
    "#discriptive analysys\n",
    "dframe2 = pd.DataFrame(f2,columns=['uniqueID','drugName', 'condition', 'review','date', 'usefulCount','rating'])\n",
    "\n",
    "count=215092"
   ]
  },
  {
   "cell_type": "code",
   "execution_count": 5,
   "metadata": {},
   "outputs": [],
   "source": [
    "frames = [dframe1, dframe2]\n",
    "result = pd.concat([dframe1, dframe2], ignore_index=True)\n",
    "result = result.append(pd.Series([count,'Mortin', 'Headache', 'My head hurts','13-Sep-14','50','10'], index=result.columns ), ignore_index=True)\n",
    "count+=1"
   ]
  },
  {
   "cell_type": "code",
   "execution_count": null,
   "metadata": {},
   "outputs": [],
   "source": []
  },
  {
   "cell_type": "code",
   "execution_count": null,
   "metadata": {},
   "outputs": [
    {
     "name": "stdout",
     "output_type": "stream",
     "text": [
      "HELP US UPDATE OR DATABASE FILL IN THE FOLLOWING FORM IF INCORRECT\n",
      "\n"
     ]
    }
   ],
   "source": [
    "while(1):\n",
    "    print(\"HELP US UPDATE OR DATABASE FILL IN THE FOLLOWING FORM IF INCORRECT\\n\")\n",
    "    co=input(\"Enter what your condition actually is \")\n",
    "    rev=input(\"Please re-Enter how you are feeling \")\n",
    "    drg=input(\"Enter the drug which had helped you overcome [\"+ rev+\"]\")\n",
    "    rt=input(\"Enter your raiting  out of 10 for [\"+ drg+\"]\")\n",
    "    result = result.append(pd.Series([count,drg,co,rev,'27-Jun-19','50',rt], index=result.columns ), ignore_index=True)\n",
    "    count+=1\n",
    "    print(\"\\n\\n\"+result.tail(2))\n",
    "    print(\"************************************************************************************\")\n",
    "    print(\"\\nDATA ADDED THANK YOU \\n\")\n",
    "    print(\"************************************************************************************\")\n",
    "    result.to_csv('drug_analysis.csv', sep=',')"
   ]
  },
  {
   "cell_type": "code",
   "execution_count": null,
   "metadata": {},
   "outputs": [],
   "source": []
  }
 ],
 "metadata": {
  "kernelspec": {
   "display_name": "Python 3",
   "language": "python",
   "name": "python3"
  },
  "language_info": {
   "codemirror_mode": {
    "name": "ipython",
    "version": 3
   },
   "file_extension": ".py",
   "mimetype": "text/x-python",
   "name": "python",
   "nbconvert_exporter": "python",
   "pygments_lexer": "ipython3",
   "version": "3.7.2"
  }
 },
 "nbformat": 4,
 "nbformat_minor": 2
}
